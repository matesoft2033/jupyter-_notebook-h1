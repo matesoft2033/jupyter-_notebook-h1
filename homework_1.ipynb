{
  "nbformat": 4,
  "nbformat_minor": 0,
  "metadata": {
    "colab": {
      "provenance": [],
      "authorship_tag": "ABX9TyOn2o77q3oB921ctAOXamSb",
      "include_colab_link": true
    },
    "kernelspec": {
      "name": "python3",
      "display_name": "Python 3"
    },
    "language_info": {
      "name": "python"
    }
  },
  "cells": [
    {
      "cell_type": "markdown",
      "metadata": {
        "id": "view-in-github",
        "colab_type": "text"
      },
      "source": [
        "<a href=\"https://colab.research.google.com/github/matesoft2033/jupyter-_notebook-h1/blob/main/homework_1.ipynb\" target=\"_parent\"><img src=\"https://colab.research.google.com/assets/colab-badge.svg\" alt=\"Open In Colab\"/></a>"
      ]
    },
    {
      "cell_type": "markdown",
      "source": [
        "### **პირველი სავარჯიშო** (1)"
      ],
      "metadata": {
        "id": "XSR4Y0pIRgIH"
      }
    },
    {
      "cell_type": "code",
      "execution_count": 1,
      "metadata": {
        "colab": {
          "base_uri": "https://localhost:8080/"
        },
        "id": "JLpYLVJxQngA",
        "outputId": "3a2f7250-1fba-46a6-ac10-f8cb3d44bb4c"
      },
      "outputs": [
        {
          "output_type": "stream",
          "name": "stdout",
          "text": [
            "dict_keys(['Georgia', 'USA', 'France'])\n",
            "dict_values(['Tbilisi', 'Washington', 'Paris'])\n"
          ]
        }
      ],
      "source": [
        "three_countries = {\n",
        "    \"Georgia\":\"Tbilisi\",\n",
        "    \"USA\":\"Washington\",\n",
        "    \"France\":\"Paris\"\n",
        "}\n",
        "\n",
        "print(three_countries.keys())\n",
        "print(three_countries.values())"
      ]
    },
    {
      "cell_type": "markdown",
      "source": [
        "## **მეორე სავარჯიშო** (2)"
      ],
      "metadata": {
        "id": "aSygfmDaRsxX"
      }
    },
    {
      "cell_type": "code",
      "source": [
        "build_projects = [\n",
        "    {\"Description\": \"Ecology\", \"time_for_complete\": 3},\n",
        "    {\"Description\": \"Geology\", \"time_for_complete\": 5},\n",
        "    {\"Description\": \"Biology\", \"time_for_complete\": 6},\n",
        "]\n",
        "\n",
        "project1 = build_projects[0]\n",
        "project1_key = list(project1.keys())[1]\n",
        "\n",
        "for project in build_projects:\n",
        "  if project[project1_key] > 4:\n",
        "    print(f\"You should do {project} firstly\")"
      ],
      "metadata": {
        "colab": {
          "base_uri": "https://localhost:8080/"
        },
        "id": "8LDRSqz5RzrD",
        "outputId": "e19452a9-84d6-486e-ca69-ea375852f54b"
      },
      "execution_count": 2,
      "outputs": [
        {
          "output_type": "stream",
          "name": "stdout",
          "text": [
            "You should do {'Description': 'Geology', 'time_for_complete': 5} firstly\n",
            "You should do {'Description': 'Biology', 'time_for_complete': 6} firstly\n"
          ]
        }
      ]
    },
    {
      "cell_type": "markdown",
      "source": [
        "## **მესამე სავარჯიშო** (3)"
      ],
      "metadata": {
        "id": "fQGFPlawU72_"
      }
    },
    {
      "cell_type": "code",
      "source": [
        "num = int(input(\"Enter a number: \"))\n",
        "\n",
        "if num % 2 == 0:\n",
        "  print(\"The number is even\")\n",
        "else:\n",
        "  print(\"The number is odd\")"
      ],
      "metadata": {
        "colab": {
          "base_uri": "https://localhost:8080/"
        },
        "id": "ZchyezjTVC98",
        "outputId": "48e007af-3985-4b2e-a089-bde539bd13a5"
      },
      "execution_count": 4,
      "outputs": [
        {
          "output_type": "stream",
          "name": "stdout",
          "text": [
            "Enter a number: 25\n",
            "The number is odd\n"
          ]
        }
      ]
    },
    {
      "cell_type": "markdown",
      "source": [
        "## **მეოთხე სავარჯიშო** (4)"
      ],
      "metadata": {
        "id": "v35IEG1oVlgr"
      }
    },
    {
      "cell_type": "code",
      "source": [
        "nums = [1,2,3,4,5,6,7,8,9,10]\n",
        "\n",
        "for n in nums:\n",
        "  print(n)"
      ],
      "metadata": {
        "colab": {
          "base_uri": "https://localhost:8080/"
        },
        "id": "LSBIpkwXVqBZ",
        "outputId": "d5a6a6cb-ac44-4fb7-f755-46c53816e99f"
      },
      "execution_count": 5,
      "outputs": [
        {
          "output_type": "stream",
          "name": "stdout",
          "text": [
            "1\n",
            "2\n",
            "3\n",
            "4\n",
            "5\n",
            "6\n",
            "7\n",
            "8\n",
            "9\n",
            "10\n"
          ]
        }
      ]
    },
    {
      "cell_type": "markdown",
      "source": [
        "## **მეხუთე სავარჯიშო** (5)"
      ],
      "metadata": {
        "id": "wqqm_zuFWSae"
      }
    },
    {
      "cell_type": "code",
      "source": [
        "for k in range(1,21):\n",
        "  if k % 2 == 1:\n",
        "    print(k)"
      ],
      "metadata": {
        "colab": {
          "base_uri": "https://localhost:8080/"
        },
        "id": "7QzU4W7tWV7t",
        "outputId": "6c2a96f2-abab-4c36-e307-e0558afac1ee"
      },
      "execution_count": 8,
      "outputs": [
        {
          "output_type": "stream",
          "name": "stdout",
          "text": [
            "1\n",
            "3\n",
            "5\n",
            "7\n",
            "9\n",
            "11\n",
            "13\n",
            "15\n",
            "17\n",
            "19\n"
          ]
        }
      ]
    },
    {
      "cell_type": "markdown",
      "source": [
        "## **მეექვსე სავარჯიშო** (6)\n"
      ],
      "metadata": {
        "id": "7f-wt7f9XJcs"
      }
    },
    {
      "cell_type": "code",
      "source": [
        "\n",
        "age = int(input(\"Please enter you age: \"))\n",
        "print(f\"Your age is {age}\")\n"
      ],
      "metadata": {
        "colab": {
          "base_uri": "https://localhost:8080/"
        },
        "id": "GSILXo7gXVVj",
        "outputId": "5496780f-92c7-40b4-8804-fc0be82c1f42"
      },
      "execution_count": 12,
      "outputs": [
        {
          "output_type": "stream",
          "name": "stdout",
          "text": [
            "Please enter you age: 15\n",
            "Your age is 15\n"
          ]
        }
      ]
    },
    {
      "cell_type": "markdown",
      "source": [
        "## **მეშვიდე სავარჯიშო** (7)"
      ],
      "metadata": {
        "id": "FNQt_MHsYUEr"
      }
    },
    {
      "cell_type": "code",
      "source": [
        "try:\n",
        "  num1 = int(input(\"Enter first number: \"))\n",
        "  num2 = int(input(\"Enter second number: \"))\n",
        "  print (num1 / num2)\n",
        "except ZeroDivisionError:\n",
        "  print(f\"The second number can't be zero\")"
      ],
      "metadata": {
        "colab": {
          "base_uri": "https://localhost:8080/"
        },
        "id": "b-zd5N3JYXU9",
        "outputId": "315bbd8e-d4ac-4aff-9ead-d1e73faf4f8f"
      },
      "execution_count": 14,
      "outputs": [
        {
          "output_type": "stream",
          "name": "stdout",
          "text": [
            "Enter first number: 0\n",
            "Enter second number: 1\n",
            "0.0\n"
          ]
        }
      ]
    },
    {
      "cell_type": "markdown",
      "source": [
        "## **მერვე სავარჯიშო** (8)"
      ],
      "metadata": {
        "id": "wp4nxo5sZES1"
      }
    },
    {
      "cell_type": "code",
      "source": [
        "cubes = [x**3 for x in range(1,11)]\n",
        "print(cubes)"
      ],
      "metadata": {
        "colab": {
          "base_uri": "https://localhost:8080/"
        },
        "id": "T6r77g9DZHaD",
        "outputId": "32134d5d-a8bd-41fd-e598-ab01d7157140"
      },
      "execution_count": 15,
      "outputs": [
        {
          "output_type": "stream",
          "name": "stdout",
          "text": [
            "[1, 8, 27, 64, 125, 216, 343, 512, 729, 1000]\n"
          ]
        }
      ]
    },
    {
      "cell_type": "markdown",
      "source": [
        "## **მეცხრე სავარჯიშო** (9)"
      ],
      "metadata": {
        "id": "a9LiubsdaE-E"
      }
    },
    {
      "cell_type": "code",
      "source": [
        "from os import read\n",
        "with open(\"data.txt\", \"w\") as file:\n",
        "  file.write(\"line1\\n\")\n",
        "  file.write(\"line2\\n\")\n",
        "  file.write(\"line3\\n\")\n",
        "\n",
        "with open(\"data.txt\", \"r\") as file:\n",
        "  content = file.read()\n",
        "  print(content)"
      ],
      "metadata": {
        "colab": {
          "base_uri": "https://localhost:8080/"
        },
        "id": "ahOnTelLaHuF",
        "outputId": "81efa971-de6a-48d3-e8dd-b234b533bb16"
      },
      "execution_count": 18,
      "outputs": [
        {
          "output_type": "stream",
          "name": "stdout",
          "text": [
            "line1\n",
            "line2\n",
            "line3\n",
            "\n"
          ]
        }
      ]
    },
    {
      "cell_type": "markdown",
      "source": [
        "## **მეათე სავარჯიშო** (10)"
      ],
      "metadata": {
        "id": "5rQ_HTxEa7fC"
      }
    },
    {
      "cell_type": "code",
      "source": [
        "birth = (2009, 8, 24)\n",
        "print(f\"Year: {birth[0]}, Month: {birth[1]}, Day: {birth[2]}\")"
      ],
      "metadata": {
        "colab": {
          "base_uri": "https://localhost:8080/"
        },
        "id": "0G1OoEa3a_OP",
        "outputId": "faf1dc26-7a88-4d96-8186-3647f5ba3427"
      },
      "execution_count": 19,
      "outputs": [
        {
          "output_type": "stream",
          "name": "stdout",
          "text": [
            "Year: 2009, Month: 8, Day: 24\n"
          ]
        }
      ]
    },
    {
      "cell_type": "markdown",
      "source": [
        "## **მეთერთმეტე სავარჯიშო** (11)"
      ],
      "metadata": {
        "id": "3RjpI7sUcEiu"
      }
    },
    {
      "cell_type": "code",
      "source": [
        "class Car:\n",
        "  def __init__(self, brand, model):\n",
        "    self.brand = brand\n",
        "    self.model = model\n",
        "\n",
        "  def description(self):\n",
        "    return f\"This car is a {self.brand} {self.model}\"\n",
        "\n",
        "car = Car(\"BMW\", \"E60\")\n",
        "print(car.description())"
      ],
      "metadata": {
        "colab": {
          "base_uri": "https://localhost:8080/"
        },
        "id": "IHjnwZc8cHfM",
        "outputId": "f816ba1a-3798-4945-e579-c33340e495be"
      },
      "execution_count": 20,
      "outputs": [
        {
          "output_type": "stream",
          "name": "stdout",
          "text": [
            "This car is a BMW E60\n"
          ]
        }
      ]
    }
  ]
}